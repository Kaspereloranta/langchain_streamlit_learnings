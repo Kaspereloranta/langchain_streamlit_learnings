{
 "cells": [
  {
   "cell_type": "code",
   "execution_count": 80,
   "id": "949c9fbf-eb55-4893-b5e1-8a14aea588ee",
   "metadata": {},
   "outputs": [],
   "source": [
    "import os\n",
    "from dotenv import load_dotenv\n",
    "from langchain.llms import OpenAI\n",
    "from langchain.llms import AzureOpenAI\n",
    "from langchain_openai import AzureChatOpenAI\n",
    "from langchain_core.messages import HumanMessage"
   ]
  },
  {
   "cell_type": "code",
   "execution_count": 81,
   "id": "66109668",
   "metadata": {},
   "outputs": [],
   "source": [
    "load_dotenv()\n",
    "model = AzureChatOpenAI(temperature=0,\n",
    "                        deployment_name=\"gpt-4\")"
   ]
  },
  {
   "cell_type": "code",
   "execution_count": 82,
   "id": "ba1fa3bb-fbcf-473a-8310-23c6815980a9",
   "metadata": {},
   "outputs": [
    {
     "name": "stdout",
     "output_type": "stream",
     "text": [
      "content='Blazing Puck Warriors' response_metadata={'token_usage': {'completion_tokens': 5, 'prompt_tokens': 25, 'total_tokens': 30}, 'model_name': 'gpt-4', 'system_fingerprint': None, 'finish_reason': 'stop', 'logprobs': None, 'content_filter_results': {}} id='run-79e7a29b-b892-4731-8c49-b0f781c1aa2c-0'\n"
     ]
    }
   ],
   "source": [
    "message = HumanMessage(content=\"I am establishing new sports team to play hockey. Suggest an epic name for this.\")\n",
    "\n",
    "print(model.invoke([message]))"
   ]
  },
  {
   "cell_type": "code",
   "execution_count": 83,
   "id": "26b9d287-b5d0-491d-adf7-2371454b261a",
   "metadata": {},
   "outputs": [],
   "source": [
    "from langchain.prompts import PromptTemplate\n",
    "from langchain.chains import LLMChain\n",
    "\n",
    "\n",
    "prompt_template_name = PromptTemplate(\n",
    "    input_variables = ['sport'],\n",
    "    template = \"I am establishing new sports team to play {sport}. Suggest an epic name for this.\"\n",
    ")\n",
    "\n",
    "name_chain = LLMChain(llm=model, prompt=prompt_template_name)\n",
    "\n",
    "prompt_template_branding = PromptTemplate(\n",
    "    input_variables = ['Name'],\n",
    "    template = \"Suggest branding strategy for my sport team named {Name}. Provide at least the name of the arena, the name of the mascot, and the style of the team's logo.\"\n",
    ")\n",
    "\n",
    "branding_chain = LLMChain(llm=model, prompt=prompt_template_branding)"
   ]
  },
  {
   "cell_type": "code",
   "execution_count": 84,
   "id": "0ac95932-183f-494c-bcc8-f3dcbb57e0c0",
   "metadata": {},
   "outputs": [
    {
     "data": {
      "text/plain": [
       "'Galactic Strikers United'"
      ]
     },
     "execution_count": 84,
     "metadata": {},
     "output_type": "execute_result"
    }
   ],
   "source": [
    "name_chain.run(\"Soccer\")"
   ]
  },
  {
   "cell_type": "code",
   "execution_count": 85,
   "id": "e0dd4d05-3e73-402b-9e62-30e08d43a0f1",
   "metadata": {},
   "outputs": [
    {
     "data": {
      "text/plain": [
       "\"Arena Name: Cosmos Coliseum\\n\\nMascot Name: Astro the Astronaut\\n\\nLogo Style: The team's logo should incorporate elements of space and soccer. The design could feature a soccer ball with a galaxy pattern or a planet with soccer ball texture, surrounded by stars. The team name, Galactic Goalbusters, should be written in a bold, futuristic font, with colors that evoke a sense of outer space, such as dark blue, purple, and silver. The logo should also include a silhouette or stylized image of the mascot, Astro the Astronaut, in action, kicking the soccer ball or celebrating a goal.\""
      ]
     },
     "execution_count": 85,
     "metadata": {},
     "output_type": "execute_result"
    }
   ],
   "source": [
    "branding_chain.run(\"Galactic Goalbusters\")"
   ]
  },
  {
   "cell_type": "code",
   "execution_count": 86,
   "id": "9f63f645-9804-465b-ac2e-a6b11b336f5d",
   "metadata": {},
   "outputs": [
    {
     "name": "stdout",
     "output_type": "stream",
     "text": [
      "Arena Name: Cosmos Coliseum\n",
      "\n",
      "Mascot Name: Astro the Comet\n",
      "\n",
      "Logo Style: The team's logo should incorporate elements of space and striking power. A possible design could be a stylized comet with a trail of stars, representing the Galactic Strikers United. The comet could be in the shape of a powerful fist or a sports equipment (e.g., soccer ball, basketball, etc.) depending on the specific sport. The team name should be written in a bold, futuristic font, with the words \"Galactic Strikers\" on top and \"United\" below the comet image. The color scheme could include deep blues, purples, and silver to represent the cosmos and give a sense of energy and excitement.\n"
     ]
    }
   ],
   "source": [
    "from langchain.chains.sequential import SimpleSequentialChain\n",
    "\n",
    "chain = SimpleSequentialChain(chains = [name_chain, branding_chain])\n",
    "response = chain.run(\"Soccer\")\n",
    "print(response)"
   ]
  },
  {
   "cell_type": "code",
   "execution_count": 93,
   "id": "256f0ae1-8d57-424f-8af7-993db9ab2675",
   "metadata": {},
   "outputs": [],
   "source": [
    "prompt_template_name = PromptTemplate(\n",
    "    input_variables = ['sport'],\n",
    "    template = \"I am establishing new sports team to play {sport}. Suggest an epic name for this.\"\n",
    ")\n",
    "\n",
    "name_chain = LLMChain(llm=model, prompt=prompt_template_name, output_key = \"Name\")\n",
    "\n",
    "prompt_template_branding = PromptTemplate(\n",
    "    input_variables = ['Name'],\n",
    "    template = \"Suggest branding strategy for my sport team named {Name}. Provide at least the name of the arena, the name of the mascot, and the style of the team's logo.\"\n",
    ")\n",
    "\n",
    "branding_chain = LLMChain(llm=model, prompt=prompt_template_branding, output_key=\"branding_info\")"
   ]
  },
  {
   "cell_type": "code",
   "execution_count": 100,
   "id": "23abddb0-8595-4320-a4a6-c81fa722fb58",
   "metadata": {},
   "outputs": [
    {
     "name": "stderr",
     "output_type": "stream",
     "text": [
      "C:\\Users\\FV351NV\\AppData\\Local\\anaconda3\\envs\\my_LLM_testing\\Lib\\site-packages\\langchain_core\\_api\\deprecation.py:119: LangChainDeprecationWarning: The method `Chain.__call__` was deprecated in langchain 0.1.0 and will be removed in 0.2.0. Use invoke instead.\n",
      "  warn_deprecated(\n"
     ]
    },
    {
     "data": {
      "text/plain": [
       "{'sport': 'Soccer',\n",
       " 'Name': 'Galactic Strikers United',\n",
       " 'branding_info': 'Arena Name: Cosmos Coliseum\\n\\nMascot Name: Astro the Comet\\n\\nLogo Style: The team\\'s logo should incorporate elements of space and striking power. A possible design could be a stylized comet with a trail of stars, representing the Galactic Strikers United. The comet could be in the shape of a powerful fist or a sports equipment (e.g., soccer ball, basketball, etc.) depending on the specific sport. The team name should be written in a bold, futuristic font, with the words \"Galactic Strikers\" on top and \"United\" below the comet image. The color scheme should include dark blues, purples, and silver to represent the cosmos and give a sense of energy and excitement.'}"
      ]
     },
     "execution_count": 100,
     "metadata": {},
     "output_type": "execute_result"
    }
   ],
   "source": [
    "from langchain.chains import SequentialChain\n",
    "\n",
    "chain = SequentialChain(\n",
    "    chains = [name_chain, branding_chain],\n",
    "    input_variables = ['sport'],\n",
    "    output_variables = ['Name', 'branding_info']\n",
    ")\n",
    "\n",
    "chain({'sport' : 'Soccer'})"
   ]
  }
 ],
 "metadata": {
  "kernelspec": {
   "display_name": "Python 3 (ipykernel)",
   "language": "python",
   "name": "python3"
  },
  "language_info": {
   "codemirror_mode": {
    "name": "ipython",
    "version": 3
   },
   "file_extension": ".py",
   "mimetype": "text/x-python",
   "name": "python",
   "nbconvert_exporter": "python",
   "pygments_lexer": "ipython3",
   "version": "3.12.3"
  }
 },
 "nbformat": 4,
 "nbformat_minor": 5
}
