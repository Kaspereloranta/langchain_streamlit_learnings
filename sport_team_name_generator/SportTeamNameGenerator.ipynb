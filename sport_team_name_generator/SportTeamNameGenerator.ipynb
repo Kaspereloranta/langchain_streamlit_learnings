{
 "cells": [
  {
   "cell_type": "code",
   "execution_count": null,
   "id": "949c9fbf-eb55-4893-b5e1-8a14aea588ee",
   "metadata": {},
   "outputs": [],
   "source": [
    "import os\n",
    "from dotenv import load_dotenv\n",
    "from langchain.llms import OpenAI\n",
    "from langchain.llms import AzureOpenAI\n",
    "from langchain_openai import AzureChatOpenAI\n",
    "from langchain_core.messages import HumanMessage"
   ]
  },
  {
   "cell_type": "code",
   "execution_count": null,
   "id": "66109668",
   "metadata": {},
   "outputs": [],
   "source": [
    "load_dotenv()\n",
    "model = AzureChatOpenAI(temperature=0,\n",
    "                        deployment_name=\"gpt-4\")"
   ]
  },
  {
   "cell_type": "code",
   "execution_count": null,
   "id": "ba1fa3bb-fbcf-473a-8310-23c6815980a9",
   "metadata": {},
   "outputs": [],
   "source": [
    "message = HumanMessage(content=\"I am establishing new sports team to play hockey. Suggest an epic name for this.\")\n",
    "\n",
    "print(model.invoke([message]))"
   ]
  },
  {
   "cell_type": "code",
   "execution_count": null,
   "id": "26b9d287-b5d0-491d-adf7-2371454b261a",
   "metadata": {},
   "outputs": [],
   "source": [
    "from langchain.prompts import PromptTemplate\n",
    "from langchain.chains import LLMChain\n",
    "\n",
    "\n",
    "prompt_template_name = PromptTemplate(\n",
    "    input_variables = ['sport'],\n",
    "    template = \"I am establishing new sports team to play {sport}. Suggest an epic name for this.\"\n",
    ")\n",
    "\n",
    "name_chain = LLMChain(llm=model, prompt=prompt_template_name)\n",
    "\n",
    "prompt_template_branding = PromptTemplate(\n",
    "    input_variables = ['Name'],\n",
    "    template = \"Suggest branding strategy for my sport team named {Name}. Provide at least the name of the arena, the name of the mascot, and the style of the team's logo.\"\n",
    ")\n",
    "\n",
    "branding_chain = LLMChain(llm=model, prompt=prompt_template_branding)"
   ]
  },
  {
   "cell_type": "code",
   "execution_count": null,
   "id": "0ac95932-183f-494c-bcc8-f3dcbb57e0c0",
   "metadata": {},
   "outputs": [],
   "source": [
    "name_chain.run(\"Soccer\")"
   ]
  },
  {
   "cell_type": "code",
   "execution_count": null,
   "id": "e0dd4d05-3e73-402b-9e62-30e08d43a0f1",
   "metadata": {},
   "outputs": [],
   "source": [
    "branding_chain.run(\"Galactic Goalbusters\")"
   ]
  },
  {
   "cell_type": "code",
   "execution_count": null,
   "id": "9f63f645-9804-465b-ac2e-a6b11b336f5d",
   "metadata": {},
   "outputs": [],
   "source": [
    "from langchain.chains.sequential import SimpleSequentialChain\n",
    "\n",
    "chain = SimpleSequentialChain(chains = [name_chain, branding_chain])\n",
    "response = chain.run(\"Soccer\")\n",
    "print(response)"
   ]
  },
  {
   "cell_type": "code",
   "execution_count": null,
   "id": "256f0ae1-8d57-424f-8af7-993db9ab2675",
   "metadata": {},
   "outputs": [],
   "source": [
    "prompt_template_name = PromptTemplate(\n",
    "    input_variables = ['sport'],\n",
    "    template = \"I am establishing new sports team to play {sport}. Suggest an epic name for this.\"\n",
    ")\n",
    "\n",
    "name_chain = LLMChain(llm=model, prompt=prompt_template_name, output_key = \"Name\")\n",
    "\n",
    "prompt_template_branding = PromptTemplate(\n",
    "    input_variables = ['Name'],\n",
    "    template = \"Suggest branding strategy for my sport team named {Name}. Provide at least the name of the arena, the name of the mascot, and the style of the team's logo.\"\n",
    ")\n",
    "\n",
    "branding_chain = LLMChain(llm=model, prompt=prompt_template_branding, output_key=\"branding_info\")"
   ]
  },
  {
   "cell_type": "code",
   "execution_count": null,
   "id": "23abddb0-8595-4320-a4a6-c81fa722fb58",
   "metadata": {},
   "outputs": [],
   "source": [
    "from langchain.chains import SequentialChain\n",
    "\n",
    "chain = SequentialChain(\n",
    "    chains = [name_chain, branding_chain],\n",
    "    input_variables = ['sport'],\n",
    "    output_variables = ['Name', 'branding_info']\n",
    ")\n",
    "\n",
    "chain({'sport' : 'Soccer'})"
   ]
  },
  {
   "cell_type": "code",
   "execution_count": null,
   "id": "4d09e66c-6802-4442-ae83-26e816b5fb0d",
   "metadata": {},
   "outputs": [],
   "source": [
    "from langchain.agents import AgentType, initialize_agent, load_tools\n",
    "from langchain.llms import OpenAI\n",
    "\n",
    "tools = load_tools([\"wikipedia\", \"llm-math\"], llm=model)\n",
    "\n",
    "agent = initialize_agent(\n",
    "    tools,\n",
    "    model,\n",
    "    agent=AgentType.ZERO_SHOT_REACT_DESCRIPTION,\n",
    "    verbose=True,\n",
    "    handle_parsing_errors=True\n",
    ")\n",
    "\n",
    "agent.run(\"When was Elon Musk born?\")"
   ]
  },
  {
   "cell_type": "code",
   "execution_count": null,
   "id": "906f2ebc-e761-4d46-9292-9567e9a96fa9",
   "metadata": {},
   "outputs": [],
   "source": [
    "\n",
    "tools = load_tools([\"serpapi\", \"llm-math\"], llm=model)\n",
    "\n",
    "agent = initialize_agent(tools, model, agent=AgentType.ZERO_SHOT_REACT_DESCRIPTION, verbose=True)\n",
    "\n",
    "agent.run(\"How old is Elon Musk?\")"
   ]
  }
 ],
 "metadata": {
  "kernelspec": {
   "display_name": "Python 3 (ipykernel)",
   "language": "python",
   "name": "python3"
  },
  "language_info": {
   "codemirror_mode": {
    "name": "ipython",
    "version": 3
   },
   "file_extension": ".py",
   "mimetype": "text/x-python",
   "name": "python",
   "nbconvert_exporter": "python",
   "pygments_lexer": "ipython3",
   "version": "3.12.3"
  }
 },
 "nbformat": 4,
 "nbformat_minor": 5
}
